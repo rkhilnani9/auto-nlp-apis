{
 "cells": [
  {
   "cell_type": "code",
   "execution_count": 1,
   "metadata": {
    "id": "KQ652SHHDHLD"
   },
   "outputs": [],
   "source": [
    "# !pip install transformers\n",
    "# !pip install git+https://github.com/PytorchLightning/pytorch-lightning.git@master --upgrade\n",
    "\n",
    "import pandas as pd\n",
    "import sklearn\n",
    "from sklearn.model_selection import train_test_split\n",
    "\n",
    "\n",
    "import torch\n",
    "import pytorch_lightning as pl\n",
    "from transformers import DistilBertTokenizer\n",
    "from torch.utils.data import DataLoader, TensorDataset"
   ]
  },
  {
   "cell_type": "code",
   "execution_count": null,
   "metadata": {
    "id": "W9KNsv9cIxP0"
   },
   "outputs": [],
   "source": [
    "!wget https://raw.githubusercontent.com/YJiangcm/SST-2-sentiment-analysis/master/data/train.tsv"
   ]
  },
  {
   "cell_type": "code",
   "execution_count": 24,
   "metadata": {
    "id": "uS_SvN2oHICA"
   },
   "outputs": [],
   "source": [
    "data = pd.read_csv(\"train.tsv\", sep=\"\\t\", header=None)\n",
    "data.columns = [\"label\", \"text\"]"
   ]
  },
  {
   "cell_type": "code",
   "execution_count": 25,
   "metadata": {
    "id": "iXvS6syNHOMh"
   },
   "outputs": [],
   "source": [
    "x = data[\"text\"].values\n",
    "y = data[\"label\"].values\n",
    "\n",
    "# Split into training and validation sets\n",
    "\n",
    "train_data, val_data, train_labels, val_labels = train_test_split(x, y)"
   ]
  },
  {
   "cell_type": "code",
   "execution_count": null,
   "metadata": {
    "id": "s4CCnupAIzND"
   },
   "outputs": [],
   "source": [
    "# Load pre-trained DistilBertTokenizer\n",
    "\n",
    "tokenizer = DistilBertTokenizer.from_pretrained('distilbert-base-uncased')"
   ]
  },
  {
   "cell_type": "code",
   "execution_count": 27,
   "metadata": {
    "id": "2zCRtf_LIYw5"
   },
   "outputs": [],
   "source": [
    "# Tokenize\n",
    "\n",
    "train_tokens = tokenizer(list(train_data), return_tensors=\"pt\", padding=True, truncation=True, max_length=64)\n",
    "val_tokens = tokenizer(list(val_data), return_tensors=\"pt\", padding=True, truncation=True, max_length=64)"
   ]
  },
  {
   "cell_type": "code",
   "execution_count": 28,
   "metadata": {
    "id": "Fhsgc_EfGGtS"
   },
   "outputs": [],
   "source": [
    "from transformers import DistilBertForSequenceClassification, Trainer, TrainingArguments\n",
    "import torch\n",
    "\n",
    "class ClassificationDataset(torch.utils.data.Dataset):\n",
    "    def __init__(self, encodings, labels):\n",
    "        self.encodings = encodings\n",
    "        self.labels = labels\n",
    "\n",
    "    def __getitem__(self, idx):\n",
    "        item = {key: torch.tensor(val[idx]) for key, val in self.encodings.items()}\n",
    "        item['labels'] = torch.tensor(self.labels[idx])\n",
    "        return item\n",
    "\n",
    "    def __len__(self):\n",
    "        return len(self.labels)\n",
    "\n",
    "train_dataset = ClassificationDataset(train_tokens, train_labels)\n",
    "val_dataset = ClassificationDataset(val_tokens, val_labels)"
   ]
  },
  {
   "cell_type": "code",
   "execution_count": null,
   "metadata": {
    "id": "_Iy-ylpfJuCv"
   },
   "outputs": [],
   "source": [
    "# Train the model\n",
    "idx = 0\n",
    "model_path = f'gdrive/MyDrive/model_{idx}'\n",
    "\n",
    "training_args = TrainingArguments(\n",
    "    output_dir=model_path,          # output directory\n",
    "    num_train_epochs=1, \n",
    "    evaluation_strategy=\"epoch\"             # total number of training epochs\n",
    ")\n",
    "\n",
    "model = DistilBertForSequenceClassification.from_pretrained(\"distilbert-base-uncased\")\n",
    "\n",
    "# Trainer object \n",
    "\n",
    "trainer = Trainer(\n",
    "    model=model,                         \n",
    "    args=training_args,                 \n",
    "    train_dataset=train_dataset,        \n",
    "    eval_dataset=val_dataset             \n",
    ")\n",
    "\n",
    "trainer.train()"
   ]
  },
  {
   "cell_type": "code",
   "execution_count": null,
   "metadata": {
    "id": "ktKuoRpHJunP"
   },
   "outputs": [],
   "source": [
    "trainer.evaluate()"
   ]
  },
  {
   "cell_type": "code",
   "execution_count": null,
   "metadata": {
    "id": "tFaH-rJDJyls"
   },
   "outputs": [],
   "source": [
    "!mkdir here\n",
    "trainer.save_model(\"here\")"
   ]
  }
 ],
 "metadata": {
  "colab": {
   "collapsed_sections": [],
   "name": "Fine tuning for sentiment analysis",
   "provenance": []
  },
  "kernelspec": {
   "display_name": "Python 3 (ipykernel)",
   "language": "python",
   "name": "python3"
  },
  "language_info": {
   "codemirror_mode": {
    "name": "ipython",
    "version": 3
   },
   "file_extension": ".py",
   "mimetype": "text/x-python",
   "name": "python",
   "nbconvert_exporter": "python",
   "pygments_lexer": "ipython3",
   "version": "3.9.5"
  }
 },
 "nbformat": 4,
 "nbformat_minor": 4
}
